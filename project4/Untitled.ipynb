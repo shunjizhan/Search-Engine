{
 "cells": [
  {
   "cell_type": "code",
   "execution_count": null,
   "metadata": {},
   "outputs": [],
   "source": [
    "#!/usr/bin/env python3\n",
    "\n",
    "import sys\n",
    "import os\n",
    "import numpy\n",
    "import numpy.linalg\n",
    "import scipy.misc\n",
    "\n",
    "\n",
    "def getOutputPngName(path, rank):\n",
    "    filename, ext = os.path.splitext(path)\n",
    "    return filename + '.' + str(rank) + '.png'\n",
    "\n",
    "\n",
    "def getOutputNpyName(path, rank):\n",
    "    filename, ext = os.path.splitext(path)\n",
    "    return filename + '.' + str(rank) + '.npy'\n",
    "\n",
    "\n",
    "def k_approximate(m):\n",
    "    u, s, vh = numpy.linalg.svd(m)\n",
    "    svd = numpy.zeros(m.shape)\n",
    "    for i in range(k):\n",
    "        svd += s[i] * numpy.outer(u.T[i], vh[i])\n",
    "    return svd\n",
    "\n",
    "\n",
    "if len(sys.argv) < 3:\n",
    "    sys.exit('usage: task1.py <PNG inputFile> <rank>')\n",
    "\n",
    "# read file\n",
    "filename, k = sys.argv[1], int(sys.argv[2])\n",
    "img = scipy.misc.imread(filename)\n",
    "\n",
    "# perform SVD\n",
    "res = k_approximate(img)\n",
    "\n",
    "# save the result\n",
    "numpy.save(getOutputNpyName(filename, k), res)\n",
    "scipy.misc.imsave(getOutputPngName(filename, k), res)"
   ]
  }
 ],
 "metadata": {
  "kernelspec": {
   "display_name": "Python 3",
   "language": "python",
   "name": "python3"
  },
  "language_info": {
   "codemirror_mode": {
    "name": "ipython",
    "version": 3
   },
   "file_extension": ".py",
   "mimetype": "text/x-python",
   "name": "python",
   "nbconvert_exporter": "python",
   "pygments_lexer": "ipython3",
   "version": "3.6.5"
  }
 },
 "nbformat": 4,
 "nbformat_minor": 2
}
